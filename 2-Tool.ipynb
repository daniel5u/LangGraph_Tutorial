{
 "cells": [
  {
   "cell_type": "markdown",
   "id": "52ee5e87",
   "metadata": {},
   "source": [
    "# 添加工具\n",
    "\n",
    "为了处理聊天机器人无法“凭记忆”回答的查询，请集成一个网页搜索工具。聊天机器人可以使用此工具查找相关信息并提供更好的回复。"
   ]
  },
  {
   "cell_type": "markdown",
   "id": "a0fc5759",
   "metadata": {},
   "source": [
    "> 本教程基于[构建一个基本聊天机器人](/1-Base.ipynb)。"
   ]
  },
  {
   "cell_type": "markdown",
   "id": "60d6d9b6",
   "metadata": {},
   "source": [
    "##### 先决条件\n",
    "\n",
    "在开始本教程之前，请确保您具备以下条件：\n",
    "\n",
    "- [Tavily 搜索引擎](https://python.langchain.ac.cn/docs/integrations/tools/tavily_search/)的 API 密钥。\n",
    "\n",
    "***使用github / Google账号登陆之后每个人都有免费额度，直接使用APIKEY即可***"
   ]
  },
  {
   "cell_type": "markdown",
   "id": "a6354f01",
   "metadata": {},
   "source": [
    "##### 1.安装搜索引擎\n",
    "\n",
    "安装使用Tavily 搜索引擎所需的依赖。"
   ]
  },
  {
   "cell_type": "code",
   "execution_count": 1,
   "id": "64e9f560",
   "metadata": {},
   "outputs": [
    {
     "name": "stdout",
     "output_type": "stream",
     "text": [
      "Requirement already satisfied: langchain-tavily in /Users/danielsu/miniconda3/envs/LangGraph/lib/python3.11/site-packages (0.2.10)\n",
      "Requirement already satisfied: aiohttp<4.0.0,>=3.11.14 in /Users/danielsu/miniconda3/envs/LangGraph/lib/python3.11/site-packages (from langchain-tavily) (3.12.14)\n",
      "Requirement already satisfied: langchain<0.4.0,>=0.3.20 in /Users/danielsu/miniconda3/envs/LangGraph/lib/python3.11/site-packages (from langchain-tavily) (0.3.26)\n",
      "Requirement already satisfied: langchain-core<0.4.0,>=0.3.15 in /Users/danielsu/miniconda3/envs/LangGraph/lib/python3.11/site-packages (from langchain-tavily) (0.3.69)\n",
      "Requirement already satisfied: requests<3.0.0,>=2.32.3 in /Users/danielsu/miniconda3/envs/LangGraph/lib/python3.11/site-packages (from langchain-tavily) (2.32.4)\n",
      "Requirement already satisfied: aiohappyeyeballs>=2.5.0 in /Users/danielsu/miniconda3/envs/LangGraph/lib/python3.11/site-packages (from aiohttp<4.0.0,>=3.11.14->langchain-tavily) (2.6.1)\n",
      "Requirement already satisfied: aiosignal>=1.4.0 in /Users/danielsu/miniconda3/envs/LangGraph/lib/python3.11/site-packages (from aiohttp<4.0.0,>=3.11.14->langchain-tavily) (1.4.0)\n",
      "Requirement already satisfied: attrs>=17.3.0 in /Users/danielsu/miniconda3/envs/LangGraph/lib/python3.11/site-packages (from aiohttp<4.0.0,>=3.11.14->langchain-tavily) (25.3.0)\n",
      "Requirement already satisfied: frozenlist>=1.1.1 in /Users/danielsu/miniconda3/envs/LangGraph/lib/python3.11/site-packages (from aiohttp<4.0.0,>=3.11.14->langchain-tavily) (1.7.0)\n",
      "Requirement already satisfied: multidict<7.0,>=4.5 in /Users/danielsu/miniconda3/envs/LangGraph/lib/python3.11/site-packages (from aiohttp<4.0.0,>=3.11.14->langchain-tavily) (6.6.3)\n",
      "Requirement already satisfied: propcache>=0.2.0 in /Users/danielsu/miniconda3/envs/LangGraph/lib/python3.11/site-packages (from aiohttp<4.0.0,>=3.11.14->langchain-tavily) (0.3.2)\n",
      "Requirement already satisfied: yarl<2.0,>=1.17.0 in /Users/danielsu/miniconda3/envs/LangGraph/lib/python3.11/site-packages (from aiohttp<4.0.0,>=3.11.14->langchain-tavily) (1.20.1)\n",
      "Requirement already satisfied: langchain-text-splitters<1.0.0,>=0.3.8 in /Users/danielsu/miniconda3/envs/LangGraph/lib/python3.11/site-packages (from langchain<0.4.0,>=0.3.20->langchain-tavily) (0.3.8)\n",
      "Requirement already satisfied: langsmith>=0.1.17 in /Users/danielsu/miniconda3/envs/LangGraph/lib/python3.11/site-packages (from langchain<0.4.0,>=0.3.20->langchain-tavily) (0.4.8)\n",
      "Requirement already satisfied: pydantic<3.0.0,>=2.7.4 in /Users/danielsu/miniconda3/envs/LangGraph/lib/python3.11/site-packages (from langchain<0.4.0,>=0.3.20->langchain-tavily) (2.11.7)\n",
      "Requirement already satisfied: SQLAlchemy<3,>=1.4 in /Users/danielsu/miniconda3/envs/LangGraph/lib/python3.11/site-packages (from langchain<0.4.0,>=0.3.20->langchain-tavily) (2.0.41)\n",
      "Requirement already satisfied: PyYAML>=5.3 in /Users/danielsu/miniconda3/envs/LangGraph/lib/python3.11/site-packages (from langchain<0.4.0,>=0.3.20->langchain-tavily) (6.0.2)\n",
      "Requirement already satisfied: tenacity!=8.4.0,<10.0.0,>=8.1.0 in /Users/danielsu/miniconda3/envs/LangGraph/lib/python3.11/site-packages (from langchain-core<0.4.0,>=0.3.15->langchain-tavily) (9.1.2)\n",
      "Requirement already satisfied: jsonpatch<2.0,>=1.33 in /Users/danielsu/miniconda3/envs/LangGraph/lib/python3.11/site-packages (from langchain-core<0.4.0,>=0.3.15->langchain-tavily) (1.33)\n",
      "Requirement already satisfied: typing-extensions>=4.7 in /Users/danielsu/miniconda3/envs/LangGraph/lib/python3.11/site-packages (from langchain-core<0.4.0,>=0.3.15->langchain-tavily) (4.14.1)\n",
      "Requirement already satisfied: packaging>=23.2 in /Users/danielsu/miniconda3/envs/LangGraph/lib/python3.11/site-packages (from langchain-core<0.4.0,>=0.3.15->langchain-tavily) (25.0)\n",
      "Requirement already satisfied: jsonpointer>=1.9 in /Users/danielsu/miniconda3/envs/LangGraph/lib/python3.11/site-packages (from jsonpatch<2.0,>=1.33->langchain-core<0.4.0,>=0.3.15->langchain-tavily) (3.0.0)\n",
      "Requirement already satisfied: annotated-types>=0.6.0 in /Users/danielsu/miniconda3/envs/LangGraph/lib/python3.11/site-packages (from pydantic<3.0.0,>=2.7.4->langchain<0.4.0,>=0.3.20->langchain-tavily) (0.7.0)\n",
      "Requirement already satisfied: pydantic-core==2.33.2 in /Users/danielsu/miniconda3/envs/LangGraph/lib/python3.11/site-packages (from pydantic<3.0.0,>=2.7.4->langchain<0.4.0,>=0.3.20->langchain-tavily) (2.33.2)\n",
      "Requirement already satisfied: typing-inspection>=0.4.0 in /Users/danielsu/miniconda3/envs/LangGraph/lib/python3.11/site-packages (from pydantic<3.0.0,>=2.7.4->langchain<0.4.0,>=0.3.20->langchain-tavily) (0.4.1)\n",
      "Requirement already satisfied: charset_normalizer<4,>=2 in /Users/danielsu/miniconda3/envs/LangGraph/lib/python3.11/site-packages (from requests<3.0.0,>=2.32.3->langchain-tavily) (3.4.2)\n",
      "Requirement already satisfied: idna<4,>=2.5 in /Users/danielsu/miniconda3/envs/LangGraph/lib/python3.11/site-packages (from requests<3.0.0,>=2.32.3->langchain-tavily) (3.10)\n",
      "Requirement already satisfied: urllib3<3,>=1.21.1 in /Users/danielsu/miniconda3/envs/LangGraph/lib/python3.11/site-packages (from requests<3.0.0,>=2.32.3->langchain-tavily) (2.5.0)\n",
      "Requirement already satisfied: certifi>=2017.4.17 in /Users/danielsu/miniconda3/envs/LangGraph/lib/python3.11/site-packages (from requests<3.0.0,>=2.32.3->langchain-tavily) (2025.7.14)\n",
      "Requirement already satisfied: httpx<1,>=0.23.0 in /Users/danielsu/miniconda3/envs/LangGraph/lib/python3.11/site-packages (from langsmith>=0.1.17->langchain<0.4.0,>=0.3.20->langchain-tavily) (0.28.1)\n",
      "Requirement already satisfied: orjson<4.0.0,>=3.9.14 in /Users/danielsu/miniconda3/envs/LangGraph/lib/python3.11/site-packages (from langsmith>=0.1.17->langchain<0.4.0,>=0.3.20->langchain-tavily) (3.11.0)\n",
      "Requirement already satisfied: requests-toolbelt<2.0.0,>=1.0.0 in /Users/danielsu/miniconda3/envs/LangGraph/lib/python3.11/site-packages (from langsmith>=0.1.17->langchain<0.4.0,>=0.3.20->langchain-tavily) (1.0.0)\n",
      "Requirement already satisfied: zstandard<0.24.0,>=0.23.0 in /Users/danielsu/miniconda3/envs/LangGraph/lib/python3.11/site-packages (from langsmith>=0.1.17->langchain<0.4.0,>=0.3.20->langchain-tavily) (0.23.0)\n",
      "Requirement already satisfied: anyio in /Users/danielsu/miniconda3/envs/LangGraph/lib/python3.11/site-packages (from httpx<1,>=0.23.0->langsmith>=0.1.17->langchain<0.4.0,>=0.3.20->langchain-tavily) (4.9.0)\n",
      "Requirement already satisfied: httpcore==1.* in /Users/danielsu/miniconda3/envs/LangGraph/lib/python3.11/site-packages (from httpx<1,>=0.23.0->langsmith>=0.1.17->langchain<0.4.0,>=0.3.20->langchain-tavily) (1.0.9)\n",
      "Requirement already satisfied: h11>=0.16 in /Users/danielsu/miniconda3/envs/LangGraph/lib/python3.11/site-packages (from httpcore==1.*->httpx<1,>=0.23.0->langsmith>=0.1.17->langchain<0.4.0,>=0.3.20->langchain-tavily) (0.16.0)\n",
      "Requirement already satisfied: sniffio>=1.1 in /Users/danielsu/miniconda3/envs/LangGraph/lib/python3.11/site-packages (from anyio->httpx<1,>=0.23.0->langsmith>=0.1.17->langchain<0.4.0,>=0.3.20->langchain-tavily) (1.3.1)\n",
      "Note: you may need to restart the kernel to use updated packages.\n"
     ]
    }
   ],
   "source": [
    "pip install -U langchain-tavily"
   ]
  },
  {
   "cell_type": "markdown",
   "id": "cbf8d6cf",
   "metadata": {},
   "source": [
    "##### 2.定义工具\n",
    "\n",
    "定义网页搜索工具\n",
    "\n",
    "*API参考：[TavilySearch](https://python.langchain.ac.cn/api_reference/tavily/tavily_search/langchain_tavily.tavily_search.TavilySearch.html)*"
   ]
  },
  {
   "cell_type": "code",
   "execution_count": 2,
   "id": "eaa077f9",
   "metadata": {},
   "outputs": [
    {
     "data": {
      "text/plain": [
       "{'query': 'What is the capital of France?',\n",
       " 'follow_up_questions': None,\n",
       " 'answer': None,\n",
       " 'images': [],\n",
       " 'results': [{'url': 'https://en.wikipedia.org/wiki/Paris',\n",
       "   'title': 'Paris - Wikipedia',\n",
       "   'content': 'Paris is the capital and largest city of France. With an estimated population of 2,048,472 in January 2025 in an area of more than 105 km2 (41 sq mi),',\n",
       "   'score': 0.86024034,\n",
       "   'raw_content': None},\n",
       "  {'url': 'https://home.adelphi.edu/~ca19535/page%204.html',\n",
       "   'title': 'Paris facts: the capital of France in history',\n",
       "   'content': 'Paris, France   ## Paris facts: Paris, the **capital of France** Paris is the **capital of France**, Paris has 2.234 million inhabitants ## Paris facts: Paris history Republic, Paris has a rich 2000 year history. See details of Paris churches, including Notre ## Paris facts: Paris, a world city Paris is a world capital city of shopping french fashion brands. All of this turns Paris into a ## Paris facts: the capital of France in history Before Paris, the capital of France Paris first became the capital of France in France, Paris retrieved its status of capital of France under King can see remains of the Philippe August Paris walls in the parking and Louvre Museum Paris remained the capital of',\n",
       "   'score': 0.8286204,\n",
       "   'raw_content': None}],\n",
       " 'response_time': 0.96}"
      ]
     },
     "execution_count": 2,
     "metadata": {},
     "output_type": "execute_result"
    }
   ],
   "source": [
    "from dotenv import load_dotenv\n",
    "\n",
    "load_dotenv()\n",
    "\n",
    "from langchain_tavily import TavilySearch\n",
    "\n",
    "tool = TavilySearch(max_results=2)\n",
    "tools = [tool]\n",
    "tool.invoke(\"What is the capital of France?\")"
   ]
  },
  {
   "cell_type": "markdown",
   "id": "382d6925",
   "metadata": {},
   "source": [
    "##### 3.定义图谱\n",
    "\n",
    "对于您在[第一个教程](/1-Base.ipynb)中创建的`StateGraph`，在 LLM 上添加`bind_tools`。这让 LLM 知道如果要使用搜索引擎，应使用正确的 JSON 格式。\n",
    "\n",
    "我们首先选择我们的 LLM"
   ]
  },
  {
   "cell_type": "code",
   "execution_count": 4,
   "id": "e8c0cecc",
   "metadata": {},
   "outputs": [
    {
     "name": "stdout",
     "output_type": "stream",
     "text": [
      "DEEPSEEK_API_KEY is set\n"
     ]
    }
   ],
   "source": [
    "from dotenv import load_dotenv\n",
    "import os\n",
    "\n",
    "load_dotenv()\n",
    "DEEPSEEK_API_KEY = os.getenv(\"DEEPSEEK_API_KEY\") \n",
    "\n",
    "if DEEPSEEK_API_KEY:\n",
    "    print(\"DEEPSEEK_API_KEY is set\")\n",
    "else:\n",
    "    print(\"DEEPSEEK_API_KEY is not set\")\n",
    "\n",
    "from langchain_deepseek import ChatDeepSeek\n",
    "\n",
    "llm = ChatDeepSeek(api_key=DEEPSEEK_API_KEY, model=\"deepseek-chat\")"
   ]
  },
  {
   "cell_type": "markdown",
   "id": "f843cfbc",
   "metadata": {},
   "source": [
    "我们现在可以将其整合到`StateGraph`中。"
   ]
  },
  {
   "cell_type": "code",
   "execution_count": 5,
   "id": "97ce6a37",
   "metadata": {},
   "outputs": [
    {
     "data": {
      "text/plain": [
       "<langgraph.graph.state.StateGraph at 0x10f021f50>"
      ]
     },
     "execution_count": 5,
     "metadata": {},
     "output_type": "execute_result"
    }
   ],
   "source": [
    "from typing import Annotated\n",
    "\n",
    "from typing_extensions import TypedDict\n",
    "\n",
    "from langgraph.graph import StateGraph, START, END\n",
    "from langgraph.graph.message import add_messages\n",
    "\n",
    "class State(TypedDict):\n",
    "    messages: Annotated[list, add_messages]\n",
    "\n",
    "graph_builder = StateGraph(State)\n",
    "\n",
    "# Modification: tell the LLM which tools it can call\n",
    "# highlight-next-line\n",
    "llm_with_tools = llm.bind_tools(tools)\n",
    "\n",
    "def chatbot(state: State):\n",
    "    return {\"messages\": [llm_with_tools.invoke(state[\"messages\"])]}\n",
    "\n",
    "graph_builder.add_node(\"chatbot\", chatbot)"
   ]
  },
  {
   "cell_type": "markdown",
   "id": "58ad6168",
   "metadata": {},
   "source": [
    "##### 4.创建运行工具的函数\n",
    "\n",
    "现在，创建一个函数来运行被调用的工具。通过将工具添加到一个名为`BasicToolNode`的新节点来完成，该节点检查状态中的最新消息，如果消息包含`tool_calls`，则调用工具。它依赖于 LLM 的`tool_calling`支持，该支持在 Anthropic、OpenAI、Google Gemini 和许多其他 LLM 提供商中可用。\n",
    "\n",
    "*API 参考：[ToolMessage](https://python.langchain.ac.cn/api_reference/core/messages/langchain_core.messages.tool.ToolMessage.html)*"
   ]
  },
  {
   "cell_type": "code",
   "execution_count": 6,
   "id": "237c8d63",
   "metadata": {},
   "outputs": [
    {
     "data": {
      "text/plain": [
       "<langgraph.graph.state.StateGraph at 0x10f021f50>"
      ]
     },
     "execution_count": 6,
     "metadata": {},
     "output_type": "execute_result"
    }
   ],
   "source": [
    "import json\n",
    "\n",
    "from langchain_core.messages import ToolMessage\n",
    "\n",
    "\n",
    "class BasicToolNode:\n",
    "    \"\"\"A node that runs the tools requested in the last AIMessage.\"\"\"\n",
    "\n",
    "    def __init__(self, tools: list) -> None:\n",
    "        self.tools_by_name = {tool.name: tool for tool in tools}\n",
    "\n",
    "    def __call__(self, inputs: dict):\n",
    "        if messages := inputs.get(\"messages\", []):\n",
    "            message = messages[-1]\n",
    "        else:\n",
    "            raise ValueError(\"No message found in input\")\n",
    "        outputs = []\n",
    "        for tool_call in message.tool_calls:\n",
    "            tool_result = self.tools_by_name[tool_call[\"name\"]].invoke(\n",
    "                tool_call[\"args\"]\n",
    "            )\n",
    "            outputs.append(\n",
    "                ToolMessage(\n",
    "                    content=json.dumps(tool_result),\n",
    "                    name=tool_call[\"name\"],\n",
    "                    tool_call_id=tool_call[\"id\"],\n",
    "                )\n",
    "            )\n",
    "        return {\"messages\": outputs}\n",
    "\n",
    "\n",
    "tool_node = BasicToolNode(tools=[tool])\n",
    "graph_builder.add_node(\"tools\", tool_node)"
   ]
  },
  {
   "cell_type": "markdown",
   "id": "0fe11bf7",
   "metadata": {},
   "source": [
    "> 如果您将来不想自己构建此功能，可以使用 LangGraph 的预构建[ToolNode](https://github.langchain.ac.cn/langgraph/reference/agents/#langgraph.prebuilt.tool_node.ToolNode)。"
   ]
  },
  {
   "cell_type": "code",
   "execution_count": null,
   "id": "cdbdcc5d",
   "metadata": {},
   "outputs": [],
   "source": [
    "'''\n",
    "使用预购建的ToolNode的方式：\n",
    "from langgraph.prebuilt import ToolNode\n",
    "\n",
    "tool_node = ToolNode(tools=[tool])\n",
    "graph_builder.add_node(\"tools\", tool_node)\n",
    "'''"
   ]
  },
  {
   "cell_type": "markdown",
   "id": "46e41fc4",
   "metadata": {},
   "source": [
    "##### 5.定义`conditional_edges`\n",
    "\n",
    "添加工具节点后，现在可以定义`conditional_edges`。\n",
    "\n",
    "**边 (Edges)** 将控制流从一个节点路由到下一个节点。**条件边 (Conditional edges)** 从一个节点开始，通常包含“if”语句，根据当前的图谱状态路由到不同的节点。这些函数接收当前的图谱state并返回一个字符串或字符串列表，指示接下来要调用哪个（或哪些）节点。\n",
    "\n",
    "接下来，定义一个名为`route_tools`的路由函数，它检查聊天机器人输出中的`tool_calls`。通过调用`add_conditional_edges`将此函数提供给图谱，这告诉图谱每当`chatbot`节点完成时，就检查此函数以确定接下来去哪里。\n",
    "\n",
    "如果存在工具调用，条件将路由到`tools`；如果不存在，则路由到`END`。由于条件可以返回`END`，因此这次您无需显式设置`finish_point`。"
   ]
  },
  {
   "cell_type": "code",
   "execution_count": 8,
   "id": "faa32a02",
   "metadata": {},
   "outputs": [],
   "source": [
    "def route_tools(\n",
    "    state: State,\n",
    "):\n",
    "    \"\"\"\n",
    "    Use in the conditional_edge to route to the ToolNode if the last message\n",
    "    has tool calls. Otherwise, route to the end.\n",
    "    \"\"\"\n",
    "    if isinstance(state, list):\n",
    "        ai_message = state[-1]\n",
    "    elif messages := state.get(\"messages\", []):\n",
    "        ai_message = messages[-1]\n",
    "    else:\n",
    "        raise ValueError(f\"No messages found in input state to tool_edge: {state}\")\n",
    "    if hasattr(ai_message, \"tool_calls\") and len(ai_message.tool_calls) > 0:\n",
    "        return \"tools\"\n",
    "    return END\n",
    "\n",
    "\n",
    "# The `tools_condition` function returns \"tools\" if the chatbot asks to use a tool, and \"END\" if\n",
    "# it is fine directly responding. This conditional routing defines the main agent loop.\n",
    "graph_builder.add_conditional_edges(\n",
    "    \"chatbot\",\n",
    "    route_tools,\n",
    "    # The following dictionary lets you tell the graph to interpret the condition's outputs as a specific node\n",
    "    # It defaults to the identity function, but if you\n",
    "    # want to use a node named something else apart from \"tools\",\n",
    "    # You can update the value of the dictionary to something else\n",
    "    # e.g., \"tools\": \"my_tools\"\n",
    "    {\"tools\": \"tools\", END: END},\n",
    ")\n",
    "# Any time a tool is called, we return to the chatbot to decide the next step\n",
    "graph_builder.add_edge(\"tools\", \"chatbot\")\n",
    "graph_builder.add_edge(START, \"chatbot\")\n",
    "graph = graph_builder.compile()"
   ]
  },
  {
   "cell_type": "markdown",
   "id": "9bf20489",
   "metadata": {},
   "source": [
    "##### 6.可视化图谱（可选）"
   ]
  },
  {
   "cell_type": "markdown",
   "id": "4daaa9d2",
   "metadata": {},
   "source": [
    "您可以使用`get_graph`方法和其中一种“draw”方法（如`draw_ascii`或`draw_png`）来可视化图谱。每种`draw`方法都需要额外的依赖。"
   ]
  },
  {
   "cell_type": "code",
   "execution_count": 9,
   "id": "3bb2f0d6",
   "metadata": {},
   "outputs": [
    {
     "data": {
      "image/png": "[encoded data removed]",
      "text/plain": [
       "<IPython.core.display.Image object>"
      ]
     },
     "metadata": {},
     "output_type": "display_data"
    }
   ],
   "source": [
    "from IPython.display import Image, display\n",
    "\n",
    "try:\n",
    "    display(Image(graph.get_graph().draw_mermaid_png()))\n",
    "except Exception:\n",
    "    # This requires some extra dependencies and is optional\n",
    "    pass"
   ]
  },
  {
   "cell_type": "markdown",
   "id": "45f03276",
   "metadata": {},
   "source": [
    "##### 7.向机器人提问\n",
    "\n",
    "现在您可以向聊天机器人提出其训练数据之外的问题。"
   ]
  },
  {
   "cell_type": "code",
   "execution_count": 11,
   "id": "5ed5d013",
   "metadata": {},
   "outputs": [
    {
     "name": "stdout",
     "output_type": "stream",
     "text": [
      "User: Who is xQc?\n",
      "Assistant: \n",
      "Assistant: {\"query\": \"Who is xQc\", \"follow_up_questions\": null, \"answer\": null, \"images\": [], \"results\": [{\"url\": \"https://youtube.fandom.com/wiki/XQc\", \"title\": \"xQc - Wikitubia - Fandom\", \"content\": \"F\\u00e9lix Lengyel (( \\\"wikipedia:Help:IPA/French\\\"); born: November 12, 1995 (1995-11-12) [age 29]), better known online as xQc (formerly xQcOW), is a Canadian Twitch streamer, YouTuber and former competitive Overwatch player. F\\u00e9lix is known for playing as a tank for Team Canada in the Overwatch World Cup and has also played other games such as League of Legends and StarCraft.\\n\\n## Contents\\n\\n## Username[]\\n\\nF\\u00e9lix's username stands for \\\"F\\u00e9lix Quebec Overwatch\\\". [...] Wikitubia\\n\\nYou are not currently logged in. You will still be able to browse Wikitubia, but you will be unable to edit without an account. Please go here to create a Fandom account.\\n\\nREAD MORE\\n\\nWikitubia\\nThis page contains material from Wikipedia\\nXQc has more than One million subscribers\\nXQc has more than One billion views\\nXQc plays video games\\nXQc creates reaction videos\\nXQc is from Canada\\nXQc created their account in 2010\\nXQc is a Content Creator on YouTube\\n\\n# xQc\\n\\n## xQc\", \"score\": 0.926683, \"raw_content\": null}, {\"url\": \"https://en.wikipedia.org/wiki/XQc\", \"title\": \"xQc - Wikipedia\", \"content\": \"| Creator Awards | | |\\n| --- | --- | --- |\\n| Silver Play Button | 100,000 subscribers |  |\\n| Gold Play Button | 1,000,000 subscribers |  |\\n\\nSilver Play Button\\nGold Play Button\\n\\nF\\u00e9lix Lengyel (French pronunciation: (/wiki/Help:IPA/French \\\"Help:IPA/French\\\"); born November 12, 1995), better known as xQc (formerly xQcOW), is a Canadian online streamer, influencer, and former professional Overwatch \\\"Overwatch (video game)\\\") player. [...] After finishing high school, Lengyel enrolled in a CEGEP, studying business administration until dropping out in second year after feeling \\\"directionless\\\". At the age of 19, Lengyel subsequently began streaming on the platform Twitch \\\"Twitch (service)\\\"), where he initially played League of Legends (LoL) under the pseudonym xQcLoL. The name xQc was derived from the last letter of his first name, x, combined with the abbreviation for his home province of Quebec, QC. As his streaming career [...] | xQc | |\\n| --- | --- |\\n| Lengyel in 2023 | |\\n| Born | F\\u00e9lix Lengyel   (1995-11-12) November 12, 1995 (age 29)  Laval, Quebec, Canada |\\n| Twitch information | |\\n| Channel |  xQc |\\n| Years active | 2014\\u2013present |\\n| Followers | 12.1 million |\\n|  | |\\n| Kick information | |\\n| Channel |  xQc |\\n| Years active | 2023\\u2013present |\\n| Followers | 907.1 thousand |\\n|  | |\\n| YouTube information | |\\n| Channel |  xQc |\\n| Years active | 2015\\u2013present |\\n| Subscribers | 2.4 million |\\n| Views | 1.75 billion |\", \"score\": 0.92507464, \"raw_content\": null}], \"response_time\": 2.82}\n",
      "Assistant: xQc, whose real name is Félix Lengyel, is a Canadian Twitch streamer, YouTuber, and former professional Overwatch player. Born on November 12, 1995, in Laval, Quebec, he is widely known for his energetic and entertaining streaming style. \n",
      "\n",
      "### Key Highlights:\n",
      "1. **Gaming Career**: xQc initially gained fame as a competitive Overwatch player, representing Team Canada in the Overwatch World Cup.\n",
      "2. **Streaming**: He streams a variety of games, including League of Legends and StarCraft, on platforms like Twitch and Kick. As of now, he has over 12 million followers on Twitch.\n",
      "3. **YouTube**: His YouTube channel has amassed over 2.4 million subscribers and 1.75 billion views, featuring gaming content and reaction videos.\n",
      "4. **Username Origin**: His username \"xQc\" stands for \"Félix Quebec,\" reflecting his name and home province.\n",
      "\n",
      "xQc is also known for his lively personality and has become one of the most popular content creators in the gaming community. For more details, you can check his [Wikipedia page](https://en.wikipedia.org/wiki/XQc) or [Wikitubia profile](https://youtube.fandom.com/wiki/XQc).\n",
      "User: q\n",
      "Goodbye!\n"
     ]
    }
   ],
   "source": [
    "def stream_graph_updates(user_input: str):\n",
    "    for event in graph.stream({\"messages\": [{\"role\": \"user\", \"content\": user_input}]}):\n",
    "        for value in event.values():\n",
    "            print(\"Assistant:\", value[\"messages\"][-1].content)\n",
    "\n",
    "while True:\n",
    "    try:\n",
    "        user_input = input(\"User: \")\n",
    "        print(\"User: \" + user_input)\n",
    "        if user_input.lower() in [\"quit\", \"exit\", \"q\"]:\n",
    "            print(\"Goodbye!\")\n",
    "            break\n",
    "\n",
    "        stream_graph_updates(user_input)\n",
    "    except:\n",
    "        # fallback if input() is not available\n",
    "        user_input = \"What do you know about LangGraph?\"\n",
    "        print(\"User: \" + user_input)\n",
    "        stream_graph_updates(user_input)\n",
    "        break"
   ]
  },
  {
   "cell_type": "markdown",
   "id": "d4b424d5",
   "metadata": {},
   "source": [
    "##### 8.使用预购建组件\n",
    "\n",
    "为了方便使用，调整您的代码以将以下内容替换为 LangGraph 预构建组件。这些组件内置了并行 API 执行等功能。\n",
    "\n",
    "- BasicToolNode被预构建的[`ToolNode`](https://github.langchain.ac.cn/langgraph/reference/prebuilt/#toolnode)取代。\n",
    "- route_tools被预构建的[`tools_condition`](https://github.langchain.ac.cn/langgraph/reference/prebuilt/#tools_condition)取代。"
   ]
  },
  {
   "cell_type": "code",
   "execution_count": 12,
   "id": "b876cbc0",
   "metadata": {},
   "outputs": [],
   "source": [
    "from typing import Annotated\n",
    "\n",
    "from langchain_tavily import TavilySearch\n",
    "from langchain_core.messages import BaseMessage\n",
    "from typing_extensions import TypedDict\n",
    "\n",
    "from langgraph.graph import StateGraph, START, END\n",
    "from langgraph.graph.message import add_messages\n",
    "from langgraph.prebuilt import ToolNode, tools_condition\n",
    "\n",
    "class State(TypedDict):\n",
    "    messages: Annotated[list, add_messages]\n",
    "\n",
    "graph_builder = StateGraph(State)\n",
    "\n",
    "tool = TavilySearch(max_results=2)\n",
    "tools = [tool]\n",
    "llm_with_tools = llm.bind_tools(tools)\n",
    "\n",
    "def chatbot(state: State):\n",
    "    return {\"messages\": [llm_with_tools.invoke(state[\"messages\"])]}\n",
    "\n",
    "graph_builder.add_node(\"chatbot\", chatbot)\n",
    "\n",
    "tool_node = ToolNode(tools=[tool])\n",
    "graph_builder.add_node(\"tools\", tool_node)\n",
    "\n",
    "graph_builder.add_conditional_edges(\n",
    "    \"chatbot\",\n",
    "    tools_condition,\n",
    ")\n",
    "# Any time a tool is called, we return to the chatbot to decide the next step\n",
    "graph_builder.add_edge(\"tools\", \"chatbot\")\n",
    "graph_builder.add_edge(START, \"chatbot\")\n",
    "graph = graph_builder.compile()"
   ]
  },
  {
   "cell_type": "markdown",
   "id": "2516fdaf",
   "metadata": {},
   "source": [
    "**恭喜**！ 您已经在 LangGraph 中创建了一个对话代理，它可以在需要时使用搜索引擎检索更新信息。现在它可以处理更广泛的用户查询。要检查您的代理刚刚执行的所有步骤，请查看此[LangSmith 追踪](https://smith.langchain.com/public/4fbd7636-25af-4638-9587-5a02fdbb0172/r)。"
   ]
  },
  {
   "cell_type": "markdown",
   "id": "6158061e",
   "metadata": {},
   "source": [
    "##### 下一步\n",
    "\n",
    "聊天机器人无法自行记住过去的交互，这限制了其进行连贯的多轮对话的能力。在下一部分中，您将[添加记忆](/3-Memory.ipynb)来解决这个问题。"
   ]
  },
  {
   "cell_type": "markdown",
   "id": "92c27113",
   "metadata": {},
   "source": []
  }
 ],
 "metadata": {
  "kernelspec": {
   "display_name": "LangGraph",
   "language": "python",
   "name": "python3"
  },
  "language_info": {
   "codemirror_mode": {
    "name": "ipython",
    "version": 3
   },
   "file_extension": ".py",
   "mimetype": "text/x-python",
   "name": "python",
   "nbconvert_exporter": "python",
   "pygments_lexer": "ipython3",
   "version": "3.11.0"
  }
 },
 "nbformat": 4,
 "nbformat_minor": 5
}
